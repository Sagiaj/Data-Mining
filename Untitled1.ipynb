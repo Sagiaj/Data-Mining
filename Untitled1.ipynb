{
 "cells": [
  {
   "cell_type": "code",
   "execution_count": 39,
   "metadata": {
    "scrolled": false
   },
   "outputs": [
    {
     "name": "stdout",
     "output_type": "stream",
     "text": [
      "0\n",
      "1\n",
      "2\n",
      "3\n",
      "4\n",
      "5\n",
      "6\n",
      "7\n",
      "8\n",
      "9\n",
      "10\n",
      "11\n",
      "12\n"
     ]
    }
   ],
   "source": [
    "import csv \n",
    "import numpy as np \n",
    "\n",
    "def createCsvFile(rows, cols):\n",
    "    a = [[i for i in range(1,rows)] for j in range(1,cols)]\n",
    "    np.savetxt(\"foo.csv\", a, fmt = \"%d\", delimiter=\",\")\n",
    "\n",
    "def readCsvFile(filename):\n",
    "    with open(filename, 'r') as f:\n",
    "        reader = csv.DictReader(f)\n",
    "        for i, line in enumerate(reader):\n",
    "            print(i)\n",
    "    \n",
    "def randomIntegersUsingRandom(length = 2):\n",
    "    import random \n",
    "    return [random.randint(2,10) for i in range(length)]\n",
    "    \n",
    "def plotListOfCoordinates(l):\n",
    "    import matplotlib.pyplot as plt \n",
    "    plt.scatter(l[0],l[1])\n",
    "    plt.show()\n",
    "    \n",
    "def transposeList(l):\n",
    "    return list(zip(*l))\n",
    "    \n",
    "createCsvFile(15,15)\n",
    "readCsvFile('foo.csv')"
   ]
  }
 ],
 "metadata": {
  "kernelspec": {
   "display_name": "Python 3",
   "language": "python",
   "name": "python3"
  },
  "language_info": {
   "codemirror_mode": {
    "name": "ipython",
    "version": 3
   },
   "file_extension": ".py",
   "mimetype": "text/x-python",
   "name": "python",
   "nbconvert_exporter": "python",
   "pygments_lexer": "ipython3",
   "version": "3.6.1"
  }
 },
 "nbformat": 4,
 "nbformat_minor": 2
}
