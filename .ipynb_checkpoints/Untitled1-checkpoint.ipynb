{
 "cells": [
  {
   "cell_type": "code",
   "execution_count": 14,
   "metadata": {
    "scrolled": false
   },
   "outputs": [
    {
     "name": "stdout",
     "output_type": "stream",
     "text": [
      "[[9, 10], [4, 6], [5, 10], [10, 3], [9, 2], [6, 7], [4, 6], [7, 3], [6, 3], [5, 9], [10, 2], [5, 10], [8, 7], [4, 9], [8, 4], [2, 10], [10, 4], [8, 2], [8, 9], [4, 4], [7, 8], [8, 10], [7, 3], [8, 8], [6, 8], [9, 2], [6, 9], [4, 5], [10, 9], [7, 8], [8, 7], [9, 2], [5, 9], [5, 7], [9, 8], [3, 9], [7, 10], [9, 7], [6, 4], [10, 4], [9, 8], [2, 5], [2, 6], [10, 7], [6, 4], [4, 3], [2, 8], [5, 7], [9, 3], [8, 8]]\n"
     ]
    },
    {
     "data": {
      "image/png": "[encoded data removed]",
      "text/plain": [
       "<matplotlib.figure.Figure at 0x9e9df98>"
      ]
     },
     "metadata": {},
     "output_type": "display_data"
    }
   ],
   "source": [
    "import csv \n",
    "import numpy as np \n",
    "\n",
    "def createCsvFile(rows, cols):\n",
    "    c = [[i for i in range(1,10)] for j in range(1,10)]\n",
    "    b = [s for s in range(1,20)]\n",
    "    a = np.random.randint(2, size=(10,10))\n",
    "    np.savetxt(\"foo.csv\", c, fmt = \"%d\", delimiter=\",\")\n",
    "    \n",
    "    \n",
    "def randomIntegersUsingRandom(length = 2):\n",
    "    import random \n",
    "    return [random.randint(2,10) for i in range(length)]\n",
    "    \n",
    "def plotListOfCoordinates(l):\n",
    "    import matplotlib.pyplot as plt \n",
    "    plt.scatter(l[0],l[1])\n",
    "    plt.show()\n",
    "    \n",
    "def transposeList(l):\n",
    "    return list(zip(*l))\n",
    "    \n",
    "createCsvFile(10,10)\n",
    "numbers = [randomIntegersUsingRandom() for i in range(50)]\n",
    "print (numbers)\n",
    "plotListOfCoordinates(transposeList(numbers))"
   ]
  }
 ],
 "metadata": {
  "kernelspec": {
   "display_name": "Python 3",
   "language": "python",
   "name": "python3"
  },
  "language_info": {
   "codemirror_mode": {
    "name": "ipython",
    "version": 3
   },
   "file_extension": ".py",
   "mimetype": "text/x-python",
   "name": "python",
   "nbconvert_exporter": "python",
   "pygments_lexer": "ipython3",
   "version": "3.6.1"
  }
 },
 "nbformat": 4,
 "nbformat_minor": 2
}
