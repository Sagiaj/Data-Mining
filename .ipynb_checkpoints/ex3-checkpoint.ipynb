{
 "cells": [
  {
   "cell_type": "code",
   "execution_count": 213,
   "metadata": {},
   "outputs": [
    {
     "ename": "SyntaxError",
     "evalue": "invalid syntax (<ipython-input-213-d78836b8f80f>, line 45)",
     "output_type": "error",
     "traceback": [
      "\u001b[1;36m  File \u001b[1;32m\"<ipython-input-213-d78836b8f80f>\"\u001b[1;36m, line \u001b[1;32m45\u001b[0m\n\u001b[1;33m    def run(matrix numOfClusters):\u001b[0m\n\u001b[1;37m                               ^\u001b[0m\n\u001b[1;31mSyntaxError\u001b[0m\u001b[1;31m:\u001b[0m invalid syntax\n"
     ]
    }
   ],
   "source": [
    "import numpy as np\n",
    "from sklearn.cluster import KMeans\n",
    "import matplotlib.pyplot as plt\n",
    "\n",
    "class Coordinate:\n",
    "    def __init__(self, vector):\n",
    "        self.vector = vector;\n",
    "\n",
    "    def calcDistance(self, p):\n",
    "        return np.sqrt(sum([(val1 - val2)**2 for val1,val2 in zip(self.vector, p.vector)]));\n",
    "\n",
    "class CoordinateRepo:\n",
    "    def __init__(self, coor_list):\n",
    "        self.setCoordinates(coor_list);\n",
    "    \n",
    "    def randomPointGenerator(self, range_num = 2):\n",
    "        import random;\n",
    "        return [random.randint(0,10) for i in range(range_num)];\n",
    "    \n",
    "    def setCoordinates(self, p_list):\n",
    "        self.point_list = p_list;\n",
    "        coor_list = [];\n",
    "        for point in p_list:\n",
    "            coor_list.append(Coordinate([val for val in point]));\n",
    "        self.coor_list = coor_list;\n",
    "        self.setDistMatrix();\n",
    "\n",
    "    def getCoordinates(self):\n",
    "        return self.coor_list;\n",
    "    \n",
    "    def getPoints(self):\n",
    "        return self.point_list;\n",
    "        \n",
    "    def setDistMatrix(self):\n",
    "        coor_list_len = len(self.coor_list);\n",
    "        self.distance_matrix = [[0 for x in range(coor_list_len+1)] for y in range(coor_list_len+1)];\n",
    "        for i in range(coor_list_len):\n",
    "            for j in range(i+1, coor_list_len):\n",
    "                self.distance_matrix[i][j] = self.coor_list[i].calcDistance(coor_list[j]);\n",
    "        \n",
    "    def getDistMatrix(self):\n",
    "        return self.distance_matrix;\n",
    "\n",
    "\n",
    "def run(matrix numOfClusters):\n",
    "    initCoorRepo = CoordinateRepo(zip([0,0]));\n",
    "    num_dimensions = 2;\n",
    "    point_list = [initCoorRepo.randomPointGenerator(num_dimensions) for i in range(11)];\n",
    "    cRepo = CoordinateRepo(point_list);\n",
    "\n",
    "    dm = np.array(cRepo.getDistMatrix());\n",
    "    plt.scatter(*zip(*point_list));\n",
    "    kmeans = KMeans(n_clusters=7, random_state=0).fit(point_list);\n",
    "    plt.scatter(*zip(*kmeans.cluster_centers_));\n",
    "    print(point_list);\n",
    "    print(kmeans.cluster_centers_);\n",
    "    plt.show();\n",
    "run();"
   ]
  },
  {
   "cell_type": "code",
   "execution_count": null,
   "metadata": {},
   "outputs": [],
   "source": []
  }
 ],
 "metadata": {
  "kernelspec": {
   "display_name": "Python 3",
   "language": "python",
   "name": "python3"
  },
  "language_info": {
   "codemirror_mode": {
    "name": "ipython",
    "version": 3
   },
   "file_extension": ".py",
   "mimetype": "text/x-python",
   "name": "python",
   "nbconvert_exporter": "python",
   "pygments_lexer": "ipython3",
   "version": "3.6.1"
  }
 },
 "nbformat": 4,
 "nbformat_minor": 2
}
